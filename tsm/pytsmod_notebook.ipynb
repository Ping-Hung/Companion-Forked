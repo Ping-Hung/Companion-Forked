{
 "cells": [
  {
   "cell_type": "code",
   "execution_count": 66,
   "metadata": {},
   "outputs": [],
   "source": [
    "import numpy as np\n",
    "import pytsmod as tsm\n",
    "import soundfile as sf"
   ]
  },
  {
   "cell_type": "code",
   "execution_count": 70,
   "metadata": {},
   "outputs": [],
   "source": [
    "def time_stretch(input_file, pairs):\n",
    "    '''\n",
    "    input:\n",
    "    - input_file (wav file)\n",
    "    - pairs (t, bpm)\n",
    "    output:\n",
    "    - x (soundfile data)\n",
    "    - sr (sample rate)\n",
    "    '''\n",
    "    x,sr = sf.read(input_file)\n",
    "    x = x.T\n",
    "    x_length = x.shape[-1]\n",
    "    time = pairs[0]\n",
    "    bpm = pairs[1]\n",
    "    basepoint = [0]\n",
    "    points = [0]\n",
    "    '''\n",
    "    for i in time:\n",
    "        basepoint.append(i*sr)\n",
    "    basepoint.append(x_length)\n",
    "    points.append(basepoint[1])\n",
    "    for i in range(len(time)):\n",
    "        length_before = sum(points[:i+2])\n",
    "        points.append(length_before + (basepoint[i+2] - basepoint[i+1])*(120/bpm[i]))\n",
    "    s = np.array([basepoint, points])\n",
    "    '''\n",
    "    basepoint.append((time[0]*sr))\n",
    "    basepoint.append(x_length)\n",
    "    points.append((basepoint[1]))\n",
    "    points.append((points[1] + (basepoint[2]-basepoint[1])*(120/bpm[0])))\n",
    "    s = np.array([basepoint,points])\n",
    "    \n",
    "    x_output = tsm.hptsm(x,s)\n",
    "    return (x_output,sr)"
   ]
  },
  {
   "cell_type": "code",
   "execution_count": 77,
   "metadata": {},
   "outputs": [],
   "source": [
    "filepath = './soundclips/120BPM_test.wav'\n",
    "new_filepath = './generated/test1.wav'\n",
    "pairs = [[2],[60]]\n",
    "x,sr = time_stretch(filepath,pairs)\n",
    "sf.write(new_filepath,np.ravel(x),sr)"
   ]
  }
 ],
 "metadata": {
  "kernelspec": {
   "display_name": "base",
   "language": "python",
   "name": "python3"
  },
  "language_info": {
   "codemirror_mode": {
    "name": "ipython",
    "version": 3
   },
   "file_extension": ".py",
   "mimetype": "text/x-python",
   "name": "python",
   "nbconvert_exporter": "python",
   "pygments_lexer": "ipython3",
   "version": "3.10.10"
  },
  "orig_nbformat": 4
 },
 "nbformat": 4,
 "nbformat_minor": 2
}
